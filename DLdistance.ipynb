{
 "cells": [
  {
   "cell_type": "code",
   "execution_count": 13,
   "metadata": {},
   "outputs": [
    {
     "name": "stdout",
     "output_type": "stream",
     "text": [
      "number Of Operations:\n",
      "37\n",
      "\n",
      "\n",
      "Damerau–Levenshtein distance:\n",
      "3\n"
     ]
    }
   ],
   "source": [
    "def damerau_levenshtein_distance(s1, s2, numOfOperations):\n",
    "    d = {}\n",
    "    lenstr1 = len(s1)\n",
    "    lenstr2 = len(s2)\n",
    "    numOfOperations = 0 # единица измерения трудоёмкости\n",
    "    for i in range(-1,lenstr1+1):\n",
    "        d[(i,-1)] = i+1\n",
    "    for j in range(-1,lenstr2+1):\n",
    "        d[(-1,j)] = j+1\n",
    " \n",
    "    for i in range(lenstr1):\n",
    "        for j in range(lenstr2):\n",
    "            if s1[i] == s2[j]:\n",
    "                cost = 0 #cost - cost of operation\n",
    "            else:\n",
    "                cost = 1\n",
    "                numOfOperations += 1\n",
    "            d[(i,j)] = min(\n",
    "                           d[(i-1,j)] + 1, # deletion\n",
    "                           d[(i,j-1)] + 1, # insertion\n",
    "                           d[(i-1,j-1)] + cost, # substitution\n",
    "                          )\n",
    "            if i and j and s1[i]==s2[j-1] and s1[i-1] == s2[j]:\n",
    "                d[(i,j)] = min (d[(i,j)], d[i-2,j-2] + cost) # transposition\n",
    "    \n",
    "    print(\"number Of Operations:\")\n",
    "    print(numOfOperations)\n",
    "    print(\"\\n\")\n",
    "    print(\"Damerau–Levenshtein distance:\")\n",
    " \n",
    "    return d[lenstr1-1,lenstr2-1]\n",
    "\n",
    "s1 = 'QWERTYU'\n",
    "s2 = 'QEWRLU'\n",
    "\n",
    "print(damerau_levenshtein_distance(s1, s2, numOfOperations))"
   ]
  },
  {
   "cell_type": "code",
   "execution_count": null,
   "metadata": {},
   "outputs": [],
   "source": []
  }
 ],
 "metadata": {
  "kernelspec": {
   "display_name": "Python 3",
   "language": "python",
   "name": "python3"
  },
  "language_info": {
   "codemirror_mode": {
    "name": "ipython",
    "version": 3
   },
   "file_extension": ".py",
   "mimetype": "text/x-python",
   "name": "python",
   "nbconvert_exporter": "python",
   "pygments_lexer": "ipython3",
   "version": "3.7.1"
  }
 },
 "nbformat": 4,
 "nbformat_minor": 2
}
