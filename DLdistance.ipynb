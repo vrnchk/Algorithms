{
 "cells": [
  {
   "cell_type": "code",
   "execution_count": 14,
   "metadata": {},
   "outputs": [],
   "source": [
    "import string\n",
    "import random\n",
    "import numpy as np\n",
    "import matplotlib.pyplot as plt\n",
    "%matplotlib inline "
   ]
  },
  {
   "cell_type": "code",
   "execution_count": 5,
   "metadata": {},
   "outputs": [],
   "source": [
    "#функция генератора начальных данных\n",
    "def id_generator(size, chars=string.ascii_uppercase):\n",
    "    return ''.join(random.choice(chars) for _ in range(size))"
   ]
  },
  {
   "cell_type": "code",
   "execution_count": 10,
   "metadata": {},
   "outputs": [
    {
     "name": "stdout",
     "output_type": "stream",
     "text": [
      "Damerau–Levenshtein distance:\n",
      "3\n",
      "\n",
      "\n",
      "number Of Operations:\n",
      "37\n"
     ]
    }
   ],
   "source": [
    "#функция поиска расстояния Д-Л и измерение трудоемкости\n",
    "def damerau_levenshtein_distance(s1, s2):\n",
    "    d = {}\n",
    "    lenstr1 = len(s1)\n",
    "    lenstr2 = len(s2)\n",
    "    numOfOperations = 0 # единица измерения трудоёмкости\n",
    "\n",
    "    for i in range(-1,lenstr1+1):\n",
    "        d[(i,-1)] = i+1\n",
    "    for j in range(-1,lenstr2+1):\n",
    "        d[(-1,j)] = j+1\n",
    " \n",
    "    for i in range(lenstr1):\n",
    "        for j in range(lenstr2):\n",
    "            if s1[i] == s2[j]:\n",
    "                cost = 0 # cost - cost of operation\n",
    "            else:\n",
    "                cost = 1\n",
    "                numOfOperations += 1\n",
    "            d[(i,j)] = min(\n",
    "                           d[(i-1,j)] + 1, # deletion\n",
    "                           d[(i,j-1)] + 1, # insertion\n",
    "                           d[(i-1,j-1)] + cost, # substitution\n",
    "                          )\n",
    "            if i and j and s1[i]==s2[j-1] and s1[i-1] == s2[j]:\n",
    "                d[(i,j)] = min (d[(i,j)], d[i-2,j-2] + cost) # transposition\n",
    " \n",
    "    return d[lenstr1-1,lenstr2-1], numOfOperations\n",
    "\n",
    "s1 = 'QWERTYU'\n",
    "s2 = 'QEWRLU'\n",
    "\n",
    "distance, number = damerau_levenshtein_distance(s1, s2)\n",
    "\n",
    "print(\"Damerau–Levenshtein distance:\")\n",
    "print(distance)\n",
    "print(\"\\n\")\n",
    "print(\"number Of Operations:\")\n",
    "print(number)"
   ]
  },
  {
   "cell_type": "code",
   "execution_count": 13,
   "metadata": {},
   "outputs": [
    {
     "name": "stdout",
     "output_type": "stream",
     "text": [
      "Массив трудоемкостей:\n",
      "[  9611.  38485.  86531. 153830. 240394. 346274. 471459. 615124. 778837.\n",
      " 961464.]\n",
      "\n",
      "\n",
      "Массив длин строк:\n",
      "[ 100.  200.  300.  400.  500.  600.  700.  800.  900. 1000.]\n"
     ]
    }
   ],
   "source": [
    "# вычислительный эксперимент в исследуемом диапазоне размеров входных данных\n",
    "# пусть N = M\n",
    "\n",
    "arr_numOfOperations = np.zeros(10)\n",
    "arr_N = np.zeros(10)\n",
    "N = 100\n",
    "\n",
    "for i in range(10):\n",
    "    s1 = id_generator(N)\n",
    "    s2 = id_generator(N)\n",
    "    dist, arr_numOfOperations[i] = damerau_levenshtein_distance(s1, s2)\n",
    "    arr_N[i] = N\n",
    "    N += 100\n",
    "\n",
    "print(\"Массив трудоемкостей:\")\n",
    "print(arr_numOfOperations)\n",
    "print(\"\\n\")\n",
    "print(\"Массив длин строк:\")\n",
    "print(arr_N)"
   ]
  },
  {
   "cell_type": "code",
   "execution_count": 19,
   "metadata": {},
   "outputs": [
    {
     "data": {
      "image/png": "[encoded data removed]",
      "text/plain": [
       "<Figure size 432x288 with 1 Axes>"
      ]
     },
     "metadata": {
      "needs_background": "light"
     },
     "output_type": "display_data"
    }
   ],
   "source": [
    "# построение графика зависимости\n",
    "plt.plot(arr_N, arr_numOfOperations);\n",
    "plt.xlabel('Массив длин строк', fontsize=14)\n",
    "plt.ylabel('Массив трудоемкостей', fontsize=14)\n",
    "\n",
    "plt.title(r'Изменение трудоемкости в зависимости от длины строк', fontsize=16, y=1.05);"
   ]
  },
  {
   "cell_type": "code",
   "execution_count": null,
   "metadata": {},
   "outputs": [],
   "source": []
  }
 ],
 "metadata": {
  "kernelspec": {
   "display_name": "Python 3",
   "language": "python",
   "name": "python3"
  },
  "language_info": {
   "codemirror_mode": {
    "name": "ipython",
    "version": 3
   },
   "file_extension": ".py",
   "mimetype": "text/x-python",
   "name": "python",
   "nbconvert_exporter": "python",
   "pygments_lexer": "ipython3",
   "version": "3.7.1"
  }
 },
 "nbformat": 4,
 "nbformat_minor": 2
}
